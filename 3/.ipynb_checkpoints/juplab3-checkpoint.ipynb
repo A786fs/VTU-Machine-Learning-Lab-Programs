{
 "cells": [
  {
   "cell_type": "code",
   "execution_count": 11,
   "metadata": {},
   "outputs": [],
   "source": [
    "import pandas as pd\n",
    "import numpy as np\n",
    "df_tennis = pd.read_csv('lab3.csv')"
   ]
  },
  {
   "cell_type": "code",
   "execution_count": 12,
   "metadata": {},
   "outputs": [],
   "source": [
    "from collections import Counter\n",
    "def entropy_list(a_list):\n",
    "    cnt = Counter(x for x in a_list)\n",
    "    num_instance = len(a_list)*1.0\n",
    "    probs = [x/num_instance for x in cnt.values()]\n",
    "    return entropy(probs)\n",
    "    "
   ]
  },
  {
   "cell_type": "code",
   "execution_count": 13,
   "metadata": {},
   "outputs": [],
   "source": [
    "import math\n",
    "def entropy(probs):\n",
    "    return sum([-prob*math.log(prob,2) for prob in probs])"
   ]
  },
  {
   "cell_type": "code",
   "execution_count": 14,
   "metadata": {},
   "outputs": [],
   "source": [
    "def info_gain(df,split,target,trace=0):\n",
    "    df_split = df.groupby(split)\n",
    "    nobs = len(df.index)*1.0\n",
    "    df_agg_ent = df_split.agg({ target:[entropy_list, lambda x: len(x)/nobs] })\n",
    "    df_agg_ent.columns = ['Entropy','PropObserved']\n",
    "    new_entropy = sum( df_agg_ent['Entropy'] * df_agg_ent[\"PropObserved\"])\n",
    "    old_entropy = entropy_list(df[target])\n",
    "    return old_entropy - new_entropy"
   ]
  },
  {
   "cell_type": "code",
   "execution_count": 15,
   "metadata": {},
   "outputs": [],
   "source": [
    "def id3(df,target,attribute_name,default_class = None):\n",
    "    cnt = Counter(x for x in df[target])\n",
    "    if len(cnt)==1:\n",
    "        return next(iter(cnt))\n",
    "    elif df.empty or (not attribute_name):\n",
    "        return default_class\n",
    "    else:\n",
    "        default_class = max(cnt.keys())\n",
    "        gains = [info_gain(df,attr,target) for attr in attribute_name]\n",
    "        index_max = gains.index(max(gains))\n",
    "        best_attr = attribute_name[index_max]\n",
    "        tree = { best_attr:{ } }\n",
    "        remaining_attr = [x for x in attribute_name if x!=best_attr]\n",
    "        for attr_val, data_subset in df.groupby(best_attr):\n",
    "            subtree = id3(data_subset,target,remaining_attr,default_class)\n",
    "            tree[best_attr][attr_val] = subtree\n",
    "        return tree\n",
    "    \n"
   ]
  },
  {
   "cell_type": "code",
   "execution_count": 16,
   "metadata": {},
   "outputs": [],
   "source": [
    "def classify(instance,tree,default = None):\n",
    "    attribute = next(iter(tree))\n",
    "    if instance[attribute] in tree[attribute].keys():\n",
    "        result = tree[attribute][instance[attribute]]\n",
    "        if isinstance(result,dict):\n",
    "            return classify(instance,result)\n",
    "        else:\n",
    "            return result\n",
    "    else:\n",
    "        return default"
   ]
  },
  {
   "cell_type": "code",
   "execution_count": 17,
   "metadata": {},
   "outputs": [
    {
     "name": "stdout",
     "output_type": "stream",
     "text": [
      "{'Outlook': {'Overcast': 'Yes',\n",
      "             'Rainy': {'Windy': {'Strong': 'No', 'Weak': 'Yes'}},\n",
      "             'Sunny': {'Humidity': {'High': 'No', 'Normal': 'Yes'}}}}\n",
      "Based on obtained tree, predictiong the 'PlayTennis' attribute\n",
      "\n",
      "The Accuracy obtaned is:1.0\n",
      "\n",
      "\n",
      "\n"
     ]
    }
   ],
   "source": []
  },
  {
   "cell_type": "code",
   "execution_count": 18,
   "metadata": {},
   "outputs": [
    {
     "ename": "NameError",
     "evalue": "name 'attribute_names' is not defined",
     "output_type": "error",
     "traceback": [
      "\u001b[0;31m---------------------------------------------------------------------------\u001b[0m",
      "\u001b[0;31mNameError\u001b[0m                                 Traceback (most recent call last)",
      "\u001b[0;32m<ipython-input-18-a0efa88375a1>\u001b[0m in \u001b[0;36m<module>\u001b[0;34m()\u001b[0m\n\u001b[1;32m      1\u001b[0m \u001b[0mtraining_data\u001b[0m \u001b[0;34m=\u001b[0m \u001b[0mdf_tennis\u001b[0m\u001b[0;34m.\u001b[0m\u001b[0miloc\u001b[0m\u001b[0;34m[\u001b[0m\u001b[0;36m1\u001b[0m\u001b[0;34m:\u001b[0m\u001b[0;34m-\u001b[0m\u001b[0;36m4\u001b[0m\u001b[0;34m]\u001b[0m \u001b[0;31m# all but last thousand instances\u001b[0m\u001b[0;34m\u001b[0m\u001b[0m\n\u001b[1;32m      2\u001b[0m \u001b[0mtest_data\u001b[0m \u001b[0;34m=\u001b[0m \u001b[0mdf_tennis\u001b[0m\u001b[0;34m.\u001b[0m\u001b[0miloc\u001b[0m\u001b[0;34m[\u001b[0m\u001b[0;34m-\u001b[0m\u001b[0;36m4\u001b[0m\u001b[0;34m:\u001b[0m\u001b[0;34m]\u001b[0m \u001b[0;31m# just the last thousand\u001b[0m\u001b[0;34m\u001b[0m\u001b[0m\n\u001b[0;32m----> 3\u001b[0;31m \u001b[0mtrain_tree\u001b[0m \u001b[0;34m=\u001b[0m \u001b[0mid3\u001b[0m\u001b[0;34m(\u001b[0m\u001b[0mtraining_data\u001b[0m\u001b[0;34m,\u001b[0m \u001b[0;34m'PlayTennis'\u001b[0m\u001b[0;34m,\u001b[0m \u001b[0mattribute_names\u001b[0m\u001b[0;34m)\u001b[0m\u001b[0;34m\u001b[0m\u001b[0m\n\u001b[0m\u001b[1;32m      4\u001b[0m \u001b[0mprint\u001b[0m\u001b[0;34m(\u001b[0m\u001b[0;34m\"\\n\\nThe Resultant Decision train_tree is :\\n\"\u001b[0m\u001b[0;34m)\u001b[0m\u001b[0;34m\u001b[0m\u001b[0m\n\u001b[1;32m      5\u001b[0m \u001b[0mpprint\u001b[0m\u001b[0;34m(\u001b[0m\u001b[0mtrain_tree\u001b[0m\u001b[0;34m)\u001b[0m\u001b[0;34m\u001b[0m\u001b[0m\n",
      "\u001b[0;31mNameError\u001b[0m: name 'attribute_names' is not defined"
     ]
    }
   ],
   "source": [
    "training_data = df_tennis.iloc[1:-4] # all but last thousand instances\n",
    "test_data = df_tennis.iloc[-4:] # just the last thousand\n",
    "train_tree = id3(training_data, 'PlayTennis', attribute_names)\n",
    "print(\"\\n\\nThe Resultant Decision train_tree is :\\n\")\n",
    "pprint(train_tree)\n",
    "test_data['predicted2'] = test_data.apply(classify,axis=1,args=(train_tree,'Yes') )\n",
    "print ('\\n\\n Training the model for a few samples, and again predicting \\'Playtennis\\' for remaining attribute')\n",
    "print('The Accuracy for new trained data is : ' + str( sum(test_data['PlayTennis']==test_data['predicted2'] ) / (1.0*len(test_data.index)) ))\n"
   ]
  },
  {
   "cell_type": "code",
   "execution_count": null,
   "metadata": {},
   "outputs": [],
   "source": []
  },
  {
   "cell_type": "code",
   "execution_count": null,
   "metadata": {},
   "outputs": [],
   "source": []
  },
  {
   "cell_type": "code",
   "execution_count": null,
   "metadata": {},
   "outputs": [],
   "source": []
  },
  {
   "cell_type": "code",
   "execution_count": null,
   "metadata": {},
   "outputs": [],
   "source": []
  }
 ],
 "metadata": {
  "kernelspec": {
   "display_name": "Python 3",
   "language": "python",
   "name": "python3"
  },
  "language_info": {
   "codemirror_mode": {
    "name": "ipython",
    "version": 3
   },
   "file_extension": ".py",
   "mimetype": "text/x-python",
   "name": "python",
   "nbconvert_exporter": "python",
   "pygments_lexer": "ipython3",
   "version": "3.5.2"
  }
 },
 "nbformat": 4,
 "nbformat_minor": 2
}
