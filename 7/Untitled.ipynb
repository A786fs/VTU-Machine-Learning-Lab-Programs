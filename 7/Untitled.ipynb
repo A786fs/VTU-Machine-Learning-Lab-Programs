{
 "cells": [
  {
   "cell_type": "code",
   "execution_count": 1,
   "metadata": {},
   "outputs": [
    {
     "ename": "NameError",
     "evalue": "name 'cross_validation' is not defined",
     "output_type": "error",
     "traceback": [
      "\u001b[0;31m---------------------------------------------------------------------------\u001b[0m",
      "\u001b[0;31mNameError\u001b[0m                                 Traceback (most recent call last)",
      "\u001b[0;32m<ipython-input-1-95cab53a957c>\u001b[0m in \u001b[0;36m<module>\u001b[0;34m()\u001b[0m\n\u001b[1;32m      3\u001b[0m \u001b[0mclf2\u001b[0m \u001b[0;34m=\u001b[0m \u001b[0mtree\u001b[0m\u001b[0;34m.\u001b[0m\u001b[0mDecisionTreeClassifier\u001b[0m\u001b[0;34m(\u001b[0m\u001b[0;34m)\u001b[0m\u001b[0;34m\u001b[0m\u001b[0m\n\u001b[1;32m      4\u001b[0m \u001b[0;31m#train the classifier on partial dataset\u001b[0m\u001b[0;34m\u001b[0m\u001b[0;34m\u001b[0m\u001b[0m\n\u001b[0;32m----> 5\u001b[0;31m \u001b[0mheart_train\u001b[0m\u001b[0;34m,\u001b[0m \u001b[0mheart_test\u001b[0m\u001b[0;34m,\u001b[0m \u001b[0mgoal_train\u001b[0m\u001b[0;34m,\u001b[0m \u001b[0mgoal_test\u001b[0m \u001b[0;34m=\u001b[0m \u001b[0mcross_validation\u001b[0m\u001b[0;34m.\u001b[0m\u001b[0mtrain_test_split\u001b[0m\u001b[0;34m(\u001b[0m\u001b[0mheart\u001b[0m\u001b[0;34m.\u001b[0m\u001b[0mloc\u001b[0m\u001b[0;34m[\u001b[0m\u001b[0;34m:\u001b[0m\u001b[0;34m,\u001b[0m\u001b[0;34m'age'\u001b[0m\u001b[0;34m:\u001b[0m\u001b[0;34m'thal'\u001b[0m\u001b[0;34m]\u001b[0m\u001b[0;34m,\u001b[0m \u001b[0mheart\u001b[0m\u001b[0;34m.\u001b[0m\u001b[0mloc\u001b[0m\u001b[0;34m[\u001b[0m\u001b[0;34m:\u001b[0m\u001b[0;34m,\u001b[0m\u001b[0;34m'diag_int'\u001b[0m\u001b[0;34m]\u001b[0m\u001b[0;34m,\u001b[0m \u001b[0mtest_size\u001b[0m\u001b[0;34m=\u001b[0m\u001b[0;36m0.33\u001b[0m\u001b[0;34m,\u001b[0m \u001b[0mrandom_state\u001b[0m\u001b[0;34m=\u001b[0m\u001b[0;36m0\u001b[0m\u001b[0;34m)\u001b[0m\u001b[0;34m\u001b[0m\u001b[0m\n\u001b[0m\u001b[1;32m      6\u001b[0m \u001b[0mclf2\u001b[0m\u001b[0;34m.\u001b[0m\u001b[0mfit\u001b[0m\u001b[0;34m(\u001b[0m\u001b[0mheart_train\u001b[0m\u001b[0;34m,\u001b[0m \u001b[0mgoal_train\u001b[0m \u001b[0;34m)\u001b[0m\u001b[0;34m\u001b[0m\u001b[0m\n\u001b[1;32m      7\u001b[0m \u001b[0mheart_test_results\u001b[0m \u001b[0;34m=\u001b[0m \u001b[0mclf2\u001b[0m\u001b[0;34m.\u001b[0m\u001b[0mpredict\u001b[0m\u001b[0;34m(\u001b[0m\u001b[0mheart_test\u001b[0m\u001b[0;34m)\u001b[0m\u001b[0;34m\u001b[0m\u001b[0m\n",
      "\u001b[0;31mNameError\u001b[0m: name 'cross_validation' is not defined"
     ]
    }
   ],
   "source": [
    "#classification with scikit-learn decision tree\n",
    "from sklearn import tree\n",
    "clf2 = tree.DecisionTreeClassifier()\n",
    "#train the classifier on partial dataset\n",
    "heart_train, heart_test, goal_train, goal_test = cross_validation.train_test_split(heart.loc[:,'age':'thal'], heart.loc[:,'diag_int'], test_size=0.33, random_state=0)\n",
    "clf2.fit(heart_train, goal_train )\n",
    "heart_test_results = clf2.predict(heart_test)\n",
    "\n",
    "#put the results into a dataframe and determine how many were classified correctly\n",
    "heart_test_results = pnd.DataFrame(heart_test_results, columns=['predict'])\n",
    "goal_test_df = pnd.DataFrame(goal_test, columns=['actual'])\n",
    "heart_test_results['correct'] = heart_test_results['predict'] == goal_test_df['actual']\n",
    "\n",
    "#print results of decision tree classification test\n",
    "print(\"\")\n",
    "print(\"Decision Tree Result 1:\")\n",
    "print(heart_test_results['correct'].value_counts())\n",
    "print(clf2.score(heart_test, goal_test))\n",
    "\n",
    "#try the scikit-learn cross validation function\n",
    "print(\"Decision Tree Cross-Validation:\")\n",
    "scores = cross_validation.cross_val_score(clf2, heart.loc[:,'age':'thal'], heart.loc[:,'diag_int'], cv=5)\n",
    "print(scores)\n",
    "\n",
    "#test classifier with other data (note: many values missing in these files)\n",
    "print(\"Trained Decision Tree Applied to VA Data:\")\n",
    "heart_va_results = clf2.predict(heart_va.loc[:,'age':'thal'])\n",
    "print(clf2.score(heart_va.loc[:,'age':'thal'], heart_va.loc[:,'diag_int']))\n",
    "print(\"Trained Decision Tree Applied to Hungarian Data:\")\n",
    "heart_hu_results = clf2.predict(heart_hu.loc[:,'age':'thal'])\n",
    "print(clf2.score(heart_hu.loc[:,'age':'thal'], heart_hu.loc[:,'diag_int']))"
   ]
  },
  {
   "cell_type": "code",
   "execution_count": null,
   "metadata": {},
   "outputs": [],
   "source": []
  }
 ],
 "metadata": {
  "kernelspec": {
   "display_name": "Python 3",
   "language": "python",
   "name": "python3"
  },
  "language_info": {
   "codemirror_mode": {
    "name": "ipython",
    "version": 3
   },
   "file_extension": ".py",
   "mimetype": "text/x-python",
   "name": "python",
   "nbconvert_exporter": "python",
   "pygments_lexer": "ipython3",
   "version": "3.5.2"
  }
 },
 "nbformat": 4,
 "nbformat_minor": 2
}
