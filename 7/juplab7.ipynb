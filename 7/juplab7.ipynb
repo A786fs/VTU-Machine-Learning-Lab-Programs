{
 "cells": [
  {
   "cell_type": "code",
   "execution_count": 8,
   "metadata": {},
   "outputs": [
    {
     "name": "stdout",
     "output_type": "stream",
     "text": [
      "\n",
      "\n",
      "Enter Age: {'SuperSeniorCitizen': 0, 'SeniorCitizen': 1, 'Teen': 4, 'Youth': 3, 'MiddleAged': 2}1\n",
      "Enter Gender: {'Female': 1, 'Male': 0}1\n",
      "Enter Family History: {'No': 1, 'Yes': 0}1\n",
      "Enter Diet: {'High': 0, 'Low': 2, 'Medium': 1}1\n",
      "Enter Lifestyle: {'Active': 1, 'Moderate': 2, 'Athelete': 0, 'Sedetary': 3}1\n",
      "Enter Cholesterol: {'High': 0, 'Borderline': 1, 'Normal': 2}1\n",
      "Probability(HeartDisease) = 0.5\n",
      "Enter for Continue: 0, Exit: 11\n"
     ]
    }
   ],
   "source": [
    "import bayespy as bp\n",
    "import numpy as np\n",
    "import csv\n",
    "\n",
    "ageEnum = {'SuperSeniorCitizen': 0, 'SeniorCitizen': 1, 'MiddleAged': 2, 'Youth': 3, 'Teen': 4}\n",
    "genderEnum = {'Male': 0, 'Female': 1}\n",
    "familyHistoryEnum = {'Yes': 0, 'No': 1}\n",
    "dietEnum = {'High': 0, 'Medium': 1, 'Low': 2}\n",
    "lifeStyleEnum = {'Athelete': 0, 'Active': 1, 'Moderate': 2, 'Sedetary': 3}\n",
    "cholesterolEnum = {'High': 0, 'Borderline': 1, 'Normal': 2}\n",
    "heartDiseaseEnum = {'Yes': 0, 'No': 1}\n",
    "\n",
    "with open('heart_disease_data.csv') as csvfile:\n",
    "    lines = csv.reader(csvfile)\n",
    "    dataset = list(lines)\n",
    "    data = []\n",
    "    for x in dataset:\n",
    "        data.append([ageEnum[x[0]], genderEnum[x[1]], familyHistoryEnum[x[2]], dietEnum[x[3]], lifeStyleEnum[x[4]], cholesterolEnum[x[5]], heartDiseaseEnum[x[6]]])\n",
    "    data = np.array(data)\n",
    "\n",
    "N = len(data)\n",
    "\n",
    "p_age = bp.nodes.Dirichlet(1.0 * np.ones(5))\n",
    "age = bp.nodes.Categorical(p_age, plates = (N, ))\n",
    "age.observe(data[:, 0])\n",
    "\n",
    "p_gender = bp.nodes.Dirichlet(1.0 * np.ones(2))\n",
    "gender = bp.nodes.Categorical(p_gender, plates = (N, ))\n",
    "gender.observe(data[:, 1])\n",
    "\n",
    "p_familyhistory = bp.nodes.Dirichlet(1.0 * np.ones(2))\n",
    "familyhistory = bp.nodes.Categorical(p_familyhistory, plates = (N, ))\n",
    "familyhistory.observe(data[:, 2])\n",
    "\n",
    "p_diet = bp.nodes.Dirichlet(1.0 * np.ones(3))\n",
    "diet = bp.nodes.Categorical(p_diet, plates = (N, ))\n",
    "diet.observe(data[:, 3])\n",
    "\n",
    "p_lifestyle = bp.nodes.Dirichlet(1.0 * np.ones(4))\n",
    "lifestyle = bp.nodes.Categorical(p_lifestyle, plates = (N, ))\n",
    "lifestyle.observe(data[:, 4])\n",
    "\n",
    "p_cholesterol = bp.nodes.Dirichlet(1.0 * np.ones(3))\n",
    "cholesterol = bp.nodes.Categorical(p_cholesterol, plates = (N, ))\n",
    "cholesterol.observe(data[:, 5])\n",
    "\n",
    "p_heartdisease = bp.nodes.Dirichlet(1.0 * np.ones(2), plates = (5, 2, 2, 3, 4, 3))\n",
    "heartdisease = bp.nodes.MultiMixture([age, gender, familyhistory, diet, lifestyle, cholesterol], bp.nodes.Categorical, p_heartdisease)\n",
    "heartdisease.observe(data[:, 6])\n",
    "p_heartdisease.update()\n",
    "\n",
    "m = 0\n",
    "while m == 0:\n",
    "    print(\"\\n\")\n",
    "    res = bp.nodes.MultiMixture([int(input('Enter Age: ' + str(ageEnum))), int(input('Enter Gender: ' + str(genderEnum))), int(input('Enter Family History: ' + str(familyHistoryEnum))), int(input('Enter Diet: ' + str(dietEnum))), int(input('Enter Lifestyle: ' + str(lifeStyleEnum))), int(input('Enter Cholesterol: ' + str(cholesterolEnum)))], bp.nodes.Categorical, p_heartdisease).get_moments()[0][heartDiseaseEnum['Yes']]\n",
    "    print(\"Probability(HeartDisease) = \" + str(res))\n",
    "    m = int(input('Enter for Continue: 0, Exit: 1'))"
   ]
  },
  {
   "cell_type": "code",
   "execution_count": null,
   "metadata": {},
   "outputs": [],
   "source": []
  },
  {
   "cell_type": "code",
   "execution_count": null,
   "metadata": {},
   "outputs": [],
   "source": []
  },
  {
   "cell_type": "code",
   "execution_count": null,
   "metadata": {},
   "outputs": [],
   "source": [
    "import sklearn\n",
    "from sklearn.datasets import "
   ]
  }
 ],
 "metadata": {
  "kernelspec": {
   "display_name": "Python 3",
   "language": "python",
   "name": "python3"
  },
  "language_info": {
   "codemirror_mode": {
    "name": "ipython",
    "version": 3
   },
   "file_extension": ".py",
   "mimetype": "text/x-python",
   "name": "python",
   "nbconvert_exporter": "python",
   "pygments_lexer": "ipython3",
   "version": "3.5.2"
  }
 },
 "nbformat": 4,
 "nbformat_minor": 2
}
